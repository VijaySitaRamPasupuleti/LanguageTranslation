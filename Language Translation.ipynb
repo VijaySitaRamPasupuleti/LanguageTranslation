{
 "cells": [
  {
   "cell_type": "code",
   "execution_count": 12,
   "metadata": {},
   "outputs": [
    {
     "name": "stdout",
     "output_type": "stream",
     "text": [
      " \n",
      "1.ENGLISH -> (en)\n",
      "2.HINDI -> (hi)\n",
      "3.TAMIL -> (ta)\n",
      "4.TELUGU -> (te)\n",
      "5.FRENCH -> (fr)\n",
      "SELECT FROM LANGUAGE : hi\n",
      " \n",
      "1.ENGLISH -> (en)\n",
      "2.HINDI -> (hi)\n",
      "3.TAMIL -> (ta)\n",
      "4.TELUGU -> (te)\n",
      "5.FRENCH -> (fr)\n",
      "SELECT TO LANGUAGE : en\n",
      "enter your text : स्कूल\n",
      "Changed Data : b'School'\n"
     ]
    }
   ],
   "source": [
    "import requests\n",
    "\n",
    "user = \"FREE_TRIAL_ACCOUNT\"\n",
    "\n",
    "password = \"PUBLIC_SECRET\"\n",
    "\n",
    "#the above line is the user id and password to access the google translate\n",
    "\n",
    "from_language =input(\" \\n1.ENGLISH -> (en)\\n2.HINDI -> (hi)\\n3.TAMIL -> (ta)\\n4.TELUGU -> (te)\\n5.FRENCH -> (fr)\\nSELECT FROM LANGUAGE : \")\n",
    "\n",
    "#the above line is used to get input language from which you need to translate\n",
    "\n",
    "to_language =input(\" \\n1.ENGLISH -> (en)\\n2.HINDI -> (hi)\\n3.TAMIL -> (ta)\\n4.TELUGU -> (te)\\n5.FRENCH -> (fr)\\nSELECT TO LANGUAGE : \")\n",
    "\n",
    "#the above line is used to get the language to which you need to translate\n",
    "\n",
    "data = input(\"enter your text : \")\n",
    "\n",
    "#the above line is used to get the input text you need to translate\n",
    "\n",
    "vij = {\n",
    "        'fromLang': from2,\n",
    "        'toLang': too,\n",
    "        'text': data\n",
    "      }\n",
    "\n",
    "#the above line is used to pass the from,to language and the text you want to translate\n",
    "\n",
    "top = {\n",
    "        'X-WM-CLIENT-ID': user, \n",
    "        'X-WM-CLIENT-SECRET': password\n",
    "      }\n",
    "\n",
    "#the User-ID and Password are passed \n",
    "\n",
    "abb = requests.post('http://api.whatsmate.net/v1/translation/translate', headers=top, json=vij)\n",
    "\n",
    "#the above line are used to access the google translate and change the language of input data \n",
    "\n",
    "print(\"Changed Data : \" + str(ab.content))\n",
    "\n",
    "#this is the output of the code"
   ]
  }
 ],
 "metadata": {
  "kernelspec": {
   "display_name": "Python 3",
   "language": "python",
   "name": "python3"
  },
  "language_info": {
   "codemirror_mode": {
    "name": "ipython",
    "version": 3
   },
   "file_extension": ".py",
   "mimetype": "text/x-python",
   "name": "python",
   "nbconvert_exporter": "python",
   "pygments_lexer": "ipython3",
   "version": "3.6.1"
  }
 },
 "nbformat": 4,
 "nbformat_minor": 2
}
